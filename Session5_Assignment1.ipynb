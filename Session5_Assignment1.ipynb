{
 "cells": [
  {
   "cell_type": "code",
   "execution_count": 2,
   "metadata": {},
   "outputs": [
    {
     "name": "stdout",
     "output_type": "stream",
     "text": [
      "division by zero!\n",
      "In finally block for cleanup\n"
     ]
    }
   ],
   "source": [
    "# Write a function to compute 5/0 and use try/except to catch the exceptions.\n",
    "\n",
    "# Hints:\n",
    "\n",
    "# Use try/except to catch exceptions.\n",
    "\n",
    "# Solution:\n",
    "\n",
    "def throws():\n",
    "    return 5/0\n",
    "\n",
    "try:\n",
    "    throws()\n",
    "except ZeroDivisionError:\n",
    "    print(\"division by zero!\")\n",
    "except Exception:\n",
    "    print('Caught an exception')\n",
    "finally:\n",
    "    print('In finally block for cleanup')"
   ]
  },
  {
   "cell_type": "code",
   "execution_count": null,
   "metadata": {
    "collapsed": true
   },
   "outputs": [],
   "source": []
  }
 ],
 "metadata": {
  "kernelspec": {
   "display_name": "Python 3",
   "language": "python",
   "name": "python3"
  },
  "language_info": {
   "codemirror_mode": {
    "name": "ipython",
    "version": 3
   },
   "file_extension": ".py",
   "mimetype": "text/x-python",
   "name": "python",
   "nbconvert_exporter": "python",
   "pygments_lexer": "ipython3",
   "version": "3.6.2"
  }
 },
 "nbformat": 4,
 "nbformat_minor": 2
}
